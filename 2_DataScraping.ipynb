{
 "cells": [
  {
   "cell_type": "code",
   "execution_count": 21,
   "id": "6114a2a8",
   "metadata": {},
   "outputs": [],
   "source": [
    "from selenium import webdriver\n",
    "browser = webdriver.Firefox()\n",
    "browser.get('https://www.archdaily.com/')"
   ]
  },
  {
   "cell_type": "code",
   "execution_count": 5,
   "id": "2b8c83ee",
   "metadata": {},
   "outputs": [],
   "source": [
    "# Importing the libraries\n",
    "import selenium \n",
    "from selenium import webdriver\n",
    "from selenium.webdriver.common.by import By\n",
    "from selenium.webdriver.common.keys import Keys\n",
    "from selenium.webdriver.support.ui import Select\n",
    "from selenium.webdriver.support.ui import WebDriverWait\n",
    "from selenium.webdriver.support import expected_conditions as EC\n",
    "from time import sleep"
   ]
  },
  {
   "cell_type": "code",
   "execution_count": 6,
   "id": "b1f188ba",
   "metadata": {},
   "outputs": [],
   "source": [
    "url=\"https://www.archdaily.com/\""
   ]
  },
  {
   "cell_type": "code",
   "execution_count": 7,
   "id": "ada5cb97",
   "metadata": {},
   "outputs": [],
   "source": [
    "#Create lists to store the data\n",
    "buildings_list = []"
   ]
  },
  {
   "cell_type": "code",
   "execution_count": 29,
   "id": "a342ab64",
   "metadata": {},
   "outputs": [],
   "source": [
    "driver = webdriver.Firefox()\n",
    "driver.get(url)\n",
    "\n",
    "#Step 1: identify search box\n",
    "search_query = driver.find_element(\"xpath\",\"/html/body/header/div[2]/div/form/input\")\n",
    "\n",
    "#Step 2: search a topic\n",
    "search_query.send_keys('GMP')\n",
    "search_query.send_keys(Keys.RETURN)"
   ]
  },
  {
   "cell_type": "code",
   "execution_count": 10,
   "id": "3fd122f9",
   "metadata": {},
   "outputs": [],
   "source": [
    "driver = webdriver.Firefox()\n",
    "driver.get(url)\n",
    "\n",
    "#Step 1: identify search box\n",
    "search_query = driver.find_element(\"xpath\",\"/html/body/header/div[2]/div/form/input\")\n",
    "\n",
    "#Step 2: search a topic\n",
    "search_query.send_keys('GMP')\n",
    "search_query.send_keys(Keys.RETURN)\n",
    "\n",
    "#Step 3: Find all the books\n",
    "buildings=driver.find_elements(\"class name\", \"gridview_item \")\n",
    "\n",
    "#Create loop to iterate on the book list in order to find each item\n",
    "for b in range(len(buildings)):\n",
    "    try:          \n",
    "        #Find title per book\n",
    "        name = buildings[b].find_element(\"class name\",\"gridview_entry-title\").text\n",
    "        print(name)\n",
    "         \n",
    "        #Add title to the existing list\n",
    "        buildings_list.append(name)\n",
    "        #Delay (good practice)\n",
    "        sleep(10)  \n",
    "        \n",
    "    except:\n",
    "        pass\n",
    "\n",
    "#Close the webpage\n",
    "driver.quit()"
   ]
  },
  {
   "cell_type": "code",
   "execution_count": 9,
   "id": "bee212d7",
   "metadata": {},
   "outputs": [
    {
     "name": "stdout",
     "output_type": "stream",
     "text": [
      "[]\n"
     ]
    }
   ],
   "source": [
    "print(buildings_list)"
   ]
  }
 ],
 "metadata": {
  "kernelspec": {
   "display_name": "Python 3 (ipykernel)",
   "language": "python",
   "name": "python3"
  },
  "language_info": {
   "codemirror_mode": {
    "name": "ipython",
    "version": 3
   },
   "file_extension": ".py",
   "mimetype": "text/x-python",
   "name": "python",
   "nbconvert_exporter": "python",
   "pygments_lexer": "ipython3",
   "version": "3.8.18"
  }
 },
 "nbformat": 4,
 "nbformat_minor": 5
}
